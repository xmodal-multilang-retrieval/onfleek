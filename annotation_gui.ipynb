{
 "cells": [
  {
   "cell_type": "code",
   "execution_count": null,
   "metadata": {},
   "outputs": [],
   "source": [
    "import re\n",
    "from typing import Iterator, Tuple\n",
    "from pathlib import Path\n",
    "\n",
    "import numpy as np\n",
    "from colorama import Fore, Style\n",
    "\n",
    "from annotation_model import load_annotation, save_annotation, Translation\n",
    "from data import Flickr30k\n",
    "from utils import get_current_datetime, show_image\n",
    "\n",
    "\n",
    "doubt_chars = re.compile(r\"[\\[\\]|]\")\n",
    "\n",
    "split = \"val\"\n",
    "loader = Flickr30k(split=split)\n",
    "output_folder = Path(f\"./{split}-translations\")"
   ]
  },
  {
   "cell_type": "code",
   "execution_count": null,
   "metadata": {},
   "outputs": [],
   "source": [
    "def edit_translation(dataset: Flickr30k, image_index: int, caption_index: int):\n",
    "    image, captions = dataset[image_index]\n",
    "    try:\n",
    "        translations: Iterator[Tuple[str, str]] = load_annotation(image_index, caption_index, output_folder)\n",
    "    except ValueError as e:\n",
    "        print(str(e))\n",
    "        return\n",
    "    show_image(np.asarray(image))\n",
    "    print(\"***Editing mode*** (type 'q' to quit editing tis image)\")\n",
    "    print(f\"Image #{image_index}, caption #{caption_index}:\")\n",
    "    print(captions[caption_index])\n",
    "    print(\"Translations:\")\n",
    "    for i, (marker, sentence) in enumerate(translations):\n",
    "        print(i, marker, sentence, sep=\"\\t\")\n",
    "    before_timestamp = get_current_datetime()\n",
    "    user_input = input(\"Translation: \")\n",
    "    after_timestamp = get_current_datetime()\n",
    "    if user_input != \"q\":\n",
    "        save_annotation(\n",
    "            image_index,\n",
    "            caption_index,\n",
    "            captions[caption_index],\n",
    "            user_input,\n",
    "            \"edit\",\n",
    "            output_folder,\n",
    "            (before_timestamp, after_timestamp),\n",
    "        )\n",
    "        return\n",
    "    print(\"Discarding.\")\n",
    "    return\n"
   ]
  },
  {
   "cell_type": "code",
   "execution_count": null,
   "metadata": {},
   "outputs": [],
   "source": [
    "def annotate(mode=\"normal\", start_at=0):\n",
    "    if mode == \"edit\":\n",
    "        keep_editing = True\n",
    "        while keep_editing:\n",
    "            message = \"Type image_id and caption_id (e.g., '1 3'): \"\n",
    "            image_id, caption_id = map(int, input(message).split())\n",
    "            keep_editing = edit_translation(loader, image_id, caption_id)\n",
    "        return\n",
    "    for i, (image, captions) in enumerate(loader):\n",
    "        if i < start_at:\n",
    "            continue\n",
    "        show_image(np.asarray(image))\n",
    "        for j, caption in enumerate(captions):\n",
    "            result = None\n",
    "            while result is None:\n",
    "                print(f\"Image #{i}, caption #{j}:\")\n",
    "                print(Fore.GREEN, caption, Style.RESET_ALL)\n",
    "                before_timestamp = get_current_datetime()\n",
    "                user_input = input(\"Translation: \")\n",
    "                after_timestamp = get_current_datetime()\n",
    "                if not user_input:\n",
    "                    print(\"Empty string is not allowed.\")\n",
    "                    continue\n",
    "                result = (user_input, mode)\n",
    "                if user_input[0] == \">\":\n",
    "                    command = user_input[1:]\n",
    "                    if command == \"skip\":\n",
    "                        result = (\"\", \"skip\")\n",
    "                    elif command == \"undo\":\n",
    "                        print(\"Edit previous translation.\")\n",
    "                        previous_caption = (i, j - 1) if j != 0 else (i - 1, 4) \n",
    "                        edit_translation(loader, *previous_caption)\n",
    "                        show_image(np.asarray(image))\n",
    "                        result = None\n",
    "                        continue\n",
    "                elif re.search(doubt_chars, user_input):\n",
    "                    result = (user_input, \"check\")\n",
    "                save_annotation(i, j, caption, *result, output_folder, (before_timestamp, after_timestamp))\n"
   ]
  },
  {
   "cell_type": "code",
   "execution_count": null,
   "metadata": {},
   "outputs": [],
   "source": [
    "annotate(mode=\"normal\", start_at=0)"
   ]
  },
  {
   "cell_type": "code",
   "execution_count": null,
   "metadata": {},
   "outputs": [],
   "source": [
    "# edit_translation(loader, 0, 0)"
   ]
  }
 ],
 "metadata": {
  "kernelspec": {
   "display_name": "Python 3",
   "language": "python",
   "name": "python3"
  },
  "language_info": {
   "codemirror_mode": {
    "name": "ipython",
    "version": 3
   },
   "file_extension": ".py",
   "mimetype": "text/x-python",
   "name": "python",
   "nbconvert_exporter": "python",
   "pygments_lexer": "ipython3",
   "version": "3.7.4"
  }
 },
 "nbformat": 4,
 "nbformat_minor": 2
}
