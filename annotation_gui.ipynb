{
 "cells": [
  {
   "cell_type": "code",
   "execution_count": null,
   "metadata": {},
   "outputs": [],
   "source": [
    "from pathlib import Path\n",
    "\n",
    "import numpy as np\n",
    "from superjson import json\n",
    "\n",
    "from data import Flickr30k\n",
    "from utils import show_image\n",
    "\n",
    "loader = Flickr30k(split=\"val\")"
   ]
  },
  {
   "cell_type": "code",
   "execution_count": null,
   "metadata": {},
   "outputs": [],
   "source": [
    "def save_annotations(\n",
    "    image_id: int,\n",
    "    caption_id: int,\n",
    "    original_sentence: str,\n",
    "    translated_sentence: str,\n",
    "    marker: str,\n",
    "    folder: Path = Path(\"./translations\"),\n",
    "):\n",
    "    obj = {\n",
    "        \"markers\": [marker],\n",
    "        \"original_sentence\": original_sentence,\n",
    "        \"translated_sentences\": [translated_sentence],\n",
    "    }\n",
    "    translation_file: Path = folder / image_id / f\"{caption_id}.json\"\n",
    "    if translation_file.is_file():\n",
    "        data = json.load(str(translation_file), verbose=False)\n",
    "        data[\"markers\"].append(marker)\n",
    "        data[\"translated_sentences\"].append(translated_sentence)\n",
    "        obj = data\n",
    "    json.dump(obj, str(translation_file), indent=2, overwrite=True, verbose=False)"
   ]
  },
  {
   "cell_type": "code",
   "execution_count": null,
   "metadata": {},
   "outputs": [],
   "source": [
    "def translate_caption(caption):\n",
    "    print(caption)\n",
    "    user_input = input(\"Translation: \")\n",
    "    if not user_input:\n",
    "        print(\"Empty string is not allowed.\")\n",
    "        return None\n",
    "    if user_input[0] == \">\":\n",
    "        command = user_input[1:]\n",
    "        if command == \"skip\":\n",
    "            return \"SKIP\"\n",
    "\n",
    "    return user_input\n",
    "\n",
    "\n",
    "for i, (image, captions) in enumerate(loader):\n",
    "    show_image(np.asarray(image))\n",
    "    for j, caption in enumerate(captions):\n",
    "        result = None\n",
    "        while result is None:\n",
    "            result = translate_caption(caption)\n",
    "        save_annotations(i, j, caption, *result)\n",
    "    break\n"
   ]
  }
 ],
 "metadata": {
  "kernelspec": {
   "display_name": "Python 3",
   "language": "python",
   "name": "python3"
  },
  "language_info": {
   "codemirror_mode": {
    "name": "ipython",
    "version": 3
   },
   "file_extension": ".py",
   "mimetype": "text/x-python",
   "name": "python",
   "nbconvert_exporter": "python",
   "pygments_lexer": "ipython3",
   "version": "3.7.4"
  }
 },
 "nbformat": 4,
 "nbformat_minor": 2
}
